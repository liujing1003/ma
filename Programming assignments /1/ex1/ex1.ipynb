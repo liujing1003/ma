{
 "cells": [
  {
   "cell_type": "markdown",
   "metadata": {},
   "source": [
    "# Programming Exercise 1:Linear Regression \n",
    "## Introduction\n",
    "In this exercise,you will implement linear regression and get to see it work on data.\n",
    "## 1.Linear regression with one variable\n",
    "  In this part of this exercise,you will inplement linear regression with one variable to predict profits for a food truck.Suppose you are the CEO of a resturant fracnchise and are considering different cities for a new outlet.The chain already has trucks in various cities and you have data for profits and populations from the cities.\n",
    "  \n",
    "  You would like to use this data to help you select which city to expand to next.\n",
    "  \n",
    "  The file ex1data1.txt contains the dataset for our linear regression prob-lem. The first column is the population of a city and the second column is the profit of a food truck in that city. A negative value for profit indicates a loss.\n",
    "  "
   ]
  },
  {
   "cell_type": "markdown",
   "metadata": {},
   "source": [
    "(1)启动TensorFlow,调用numpy"
   ]
  },
  {
   "cell_type": "code",
   "execution_count": 3,
   "metadata": {},
   "outputs": [],
   "source": [
    "import pandas as pd\n",
    "import seaborn as sns\n",
    "sns.set(context=\"notebook\",style=\"whitegrid\",palette=\"dark\")\n",
    "import matplotlib.pyplot as plt\n",
    "import tensorflow as tf\n",
    "import numpy as np"
   ]
  },
  {
   "cell_type": "markdown",
   "metadata": {},
   "source": [
    "(2)读取数据"
   ]
  },
  {
   "cell_type": "code",
   "execution_count": 4,
   "metadata": {
    "collapsed": true
   },
   "outputs": [],
   "source": [
    "df=pd.read_csv('ex1data1.txt',names=['population','profit'])"
   ]
  },
  {
   "cell_type": "code",
   "execution_count": 5,
   "metadata": {},
   "outputs": [
    {
     "data": {
      "text/html": [
       "<div>\n",
       "<style>\n",
       "    .dataframe thead tr:only-child th {\n",
       "        text-align: right;\n",
       "    }\n",
       "\n",
       "    .dataframe thead th {\n",
       "        text-align: left;\n",
       "    }\n",
       "\n",
       "    .dataframe tbody tr th {\n",
       "        vertical-align: top;\n",
       "    }\n",
       "</style>\n",
       "<table border=\"1\" class=\"dataframe\">\n",
       "  <thead>\n",
       "    <tr style=\"text-align: right;\">\n",
       "      <th></th>\n",
       "      <th>population</th>\n",
       "      <th>profit</th>\n",
       "    </tr>\n",
       "  </thead>\n",
       "  <tbody>\n",
       "    <tr>\n",
       "      <th>0</th>\n",
       "      <td>6.1101</td>\n",
       "      <td>17.5920</td>\n",
       "    </tr>\n",
       "    <tr>\n",
       "      <th>1</th>\n",
       "      <td>5.5277</td>\n",
       "      <td>9.1302</td>\n",
       "    </tr>\n",
       "    <tr>\n",
       "      <th>2</th>\n",
       "      <td>8.5186</td>\n",
       "      <td>13.6620</td>\n",
       "    </tr>\n",
       "    <tr>\n",
       "      <th>3</th>\n",
       "      <td>7.0032</td>\n",
       "      <td>11.8540</td>\n",
       "    </tr>\n",
       "    <tr>\n",
       "      <th>4</th>\n",
       "      <td>5.8598</td>\n",
       "      <td>6.8233</td>\n",
       "    </tr>\n",
       "  </tbody>\n",
       "</table>\n",
       "</div>"
      ],
      "text/plain": [
       "   population   profit\n",
       "0      6.1101  17.5920\n",
       "1      5.5277   9.1302\n",
       "2      8.5186  13.6620\n",
       "3      7.0032  11.8540\n",
       "4      5.8598   6.8233"
      ]
     },
     "execution_count": 5,
     "metadata": {},
     "output_type": "execute_result"
    }
   ],
   "source": [
    "df.head()"
   ]
  },
  {
   "cell_type": "code",
   "execution_count": 6,
   "metadata": {},
   "outputs": [
    {
     "name": "stdout",
     "output_type": "stream",
     "text": [
      "<class 'pandas.core.frame.DataFrame'>\n",
      "RangeIndex: 97 entries, 0 to 96\n",
      "Data columns (total 2 columns):\n",
      "population    97 non-null float64\n",
      "profit        97 non-null float64\n",
      "dtypes: float64(2)\n",
      "memory usage: 1.6 KB\n"
     ]
    }
   ],
   "source": [
    "df.info()"
   ]
  },
  {
   "cell_type": "markdown",
   "metadata": {},
   "source": [
    "(3)看下原始数据"
   ]
  },
  {
   "cell_type": "code",
   "execution_count": 7,
   "metadata": {},
   "outputs": [
    {
     "data": {
      "image/png": "[encoded data removed]",
      "text/plain": [
       "<matplotlib.figure.Figure at 0x7f894f300550>"
      ]
     },
     "metadata": {},
     "output_type": "display_data"
    }
   ],
   "source": [
    "sns.lmplot('population','profit',df,size=6,fit_reg=False)\n",
    "plt.show()"
   ]
  },
  {
   "cell_type": "code",
   "execution_count": 8,
   "metadata": {
    "collapsed": true
   },
   "outputs": [],
   "source": [
    "def get_X(df):#读取特征\n",
    "    #\"\"\"\n",
    "    #use concat to add interest feature to avoid side effect\n",
    "    #not efficient for big dataset though\n",
    "    #\"\"\"\n",
    "    ones=pd.DataFrame({'ones':np.ones(len(df))})#ones是m行1列的dataframe\n",
    "    data=pd.concat([ones,df],axis=1)#合并数据，根据列合并\n",
    "    return data.iloc[:,:-1].as_matrix()#这个操作返回ndarray,不是矩阵，返回的是除第一列之外的数\n",
    "def get_y(df):#读取标签\n",
    "    #'''assume the last column is the target'''\n",
    "    return np.array(df.iloc[:,-1])#df.iloc[:,-1]是指df的最后一列\n",
    "def normalize_feature(df):\n",
    "    #\"\"\"Applies function along input axis(default 0) of DataFrame.\"\"\"\n",
    "    return df.apply(lambda column:(column-column.mean())/column.std())#特征缩放"
   ]
  },
  {
   "cell_type": "markdown",
   "metadata": {},
   "source": [
    "(4)\n",
    "多变量的假设 h 表示为：\\\\[{{h}_{\\theta }}\\left( x \\right)={{\\theta }_{0}}+{{\\theta }_{1}}{{x}_{1}}+{{\\theta }_{2}}{{x}_{2}}+...+{{\\theta }_{n}}{{x}_{n}}\\\\] \n",
    "这个公式中有n+1个参数和n个变量，为了使得公式能够简化一些，引入${{x}_{0}}=1$，则公式转化为：  \n",
    "此时模型中的参数是一个n+1维的向量，任何一个训练实例也都是n+1维的向量，特征矩阵X的维度是 m*(n+1)。 因此公式可以简化为：${{h}_{\\theta }}\\left( x \\right)={{\\theta }^{T}}X$，其中上标T代表矩阵转置。\n"
   ]
  },
  {
   "cell_type": "code",
   "execution_count": 9,
   "metadata": {
    "collapsed": true
   },
   "outputs": [],
   "source": [
    "def linear_regression(X_data, y_data, alpha, epoch, optimizer=tf.train.GradientDescentOptimizer):# 这个函数是旧金山的一个大神Lucas Shen写的\n",
    "      # placeholder for graph input\n",
    "    X = tf.placeholder(tf.float32, shape=X_data.shape)\n",
    "    y = tf.placeholder(tf.float32, shape=y_data.shape)\n",
    "\n",
    "    # construct the graph\n",
    "    with tf.variable_scope('linear-regression'):\n",
    "        W = tf.get_variable(\"weights\",\n",
    "                            (X_data.shape[1], 1),\n",
    "                            initializer=tf.constant_initializer())  # n*1\n",
    "\n",
    "        y_pred = tf.matmul(X, W)  # m*n @ n*1 -> m*1\n",
    "\n",
    "        loss = 1 / (2 * len(X_data)) * tf.matmul((y_pred - y), (y_pred - y), transpose_a=True)  # (m*1).T @ m*1 = 1*1\n",
    "\n",
    "    opt = optimizer(learning_rate=alpha)\n",
    "    opt_operation = opt.minimize(loss)\n",
    "\n",
    "    # run the session\n",
    "    with tf.Session() as sess:\n",
    "        sess.run(tf.global_variables_initializer())\n",
    "        loss_data = []\n",
    "\n",
    "        for i in range(epoch):\n",
    "            _, loss_val, W_val = sess.run([opt_operation, loss, W], feed_dict={X: X_data, y: y_data})\n",
    "            loss_data.append(loss_val[0, 0])  # because every loss_val is 1*1 ndarray\n",
    "\n",
    "            if len(loss_data) > 1 and np.abs(loss_data[-1] - loss_data[-2]) < 10 ** -9:  # early break when it's converged\n",
    "                # print('Converged at epoch {}'.format(i))\n",
    "                break\n",
    "\n",
    "    # clear the graph\n",
    "    tf.reset_default_graph()\n",
    "    return {'loss': loss_data, 'parameters': W_val}  # just want to return in row vector format"
   ]
  },
  {
   "cell_type": "code",
   "execution_count": 10,
   "metadata": {},
   "outputs": [
    {
     "data": {
      "text/html": [
       "<div>\n",
       "<style>\n",
       "    .dataframe thead tr:only-child th {\n",
       "        text-align: right;\n",
       "    }\n",
       "\n",
       "    .dataframe thead th {\n",
       "        text-align: left;\n",
       "    }\n",
       "\n",
       "    .dataframe tbody tr th {\n",
       "        vertical-align: top;\n",
       "    }\n",
       "</style>\n",
       "<table border=\"1\" class=\"dataframe\">\n",
       "  <thead>\n",
       "    <tr style=\"text-align: right;\">\n",
       "      <th></th>\n",
       "      <th>population</th>\n",
       "      <th>profit</th>\n",
       "    </tr>\n",
       "  </thead>\n",
       "  <tbody>\n",
       "    <tr>\n",
       "      <th>0</th>\n",
       "      <td>6.1101</td>\n",
       "      <td>17.5920</td>\n",
       "    </tr>\n",
       "    <tr>\n",
       "      <th>1</th>\n",
       "      <td>5.5277</td>\n",
       "      <td>9.1302</td>\n",
       "    </tr>\n",
       "    <tr>\n",
       "      <th>2</th>\n",
       "      <td>8.5186</td>\n",
       "      <td>13.6620</td>\n",
       "    </tr>\n",
       "    <tr>\n",
       "      <th>3</th>\n",
       "      <td>7.0032</td>\n",
       "      <td>11.8540</td>\n",
       "    </tr>\n",
       "    <tr>\n",
       "      <th>4</th>\n",
       "      <td>5.8598</td>\n",
       "      <td>6.8233</td>\n",
       "    </tr>\n",
       "  </tbody>\n",
       "</table>\n",
       "</div>"
      ],
      "text/plain": [
       "   population   profit\n",
       "0      6.1101  17.5920\n",
       "1      5.5277   9.1302\n",
       "2      8.5186  13.6620\n",
       "3      7.0032  11.8540\n",
       "4      5.8598   6.8233"
      ]
     },
     "execution_count": 10,
     "metadata": {},
     "output_type": "execute_result"
    }
   ],
   "source": [
    "data = pd.read_csv('ex1data1.txt', names=['population', 'profit'])#读取数据，并赋予列名\n",
    "\n",
    "data.head()#看下数据前5行"
   ]
  },
  {
   "cell_type": "markdown",
   "metadata": {},
   "source": [
    "(5)计算代价函数\n",
    "$$J\\left( \\theta  \\right)=\\frac{1}{2m}\\sum\\limits_{i=1}^{m}{{{\\left( {{h}_{\\theta }}\\left( {{x}^{(i)}} \\right)-{{y}^{(i)}} \\right)}^{2}}}$$\n",
    "其中：\\\\[{{h}_{\\theta }}\\left( x \\right)={{\\theta }^{T}}X={{\\theta }_{0}}{{x}_{0}}+{{\\theta }_{1}}{{x}_{1}}+{{\\theta }_{2}}{{x}_{2}}+...+{{\\theta }_{n}}{{x}_{n}}\\\\] "
   ]
  },
  {
   "cell_type": "code",
   "execution_count": 11,
   "metadata": {},
   "outputs": [
    {
     "name": "stdout",
     "output_type": "stream",
     "text": [
      "(97, 2) <class 'numpy.ndarray'>\n",
      "(97,) <class 'numpy.ndarray'>\n"
     ]
    }
   ],
   "source": [
    "X = get_X(data)\n",
    "print(X.shape, type(X))\n",
    "\n",
    "y = get_y(data)\n",
    "print(y.shape, type(y))\n",
    "#看下数据维度"
   ]
  },
  {
   "cell_type": "code",
   "execution_count": 13,
   "metadata": {},
   "outputs": [
    {
     "name": "stdout",
     "output_type": "stream",
     "text": [
      "[ 0.  0.]\n"
     ]
    }
   ],
   "source": [
    "theta = np.zeros(X.shape[1])#X.shape[1]=2,代表特征数n\n",
    "print(theta)"
   ]
  },
  {
   "cell_type": "code",
   "execution_count": 14,
   "metadata": {},
   "outputs": [
    {
     "name": "stdout",
     "output_type": "stream",
     "text": [
      "97 97\n"
     ]
    }
   ],
   "source": [
    "print(X.shape[0],len(X))"
   ]
  },
  {
   "cell_type": "code",
   "execution_count": 15,
   "metadata": {
    "collapsed": true
   },
   "outputs": [],
   "source": [
    "def lr_cost(theta, X, y):\n",
    "#     \"\"\"\n",
    "#     X: R(m*n), m 样本数, n 特征数\n",
    "#     y: R(m)\n",
    "#     theta : R(n), 线性回归的参数\n",
    "#     \"\"\"\n",
    "    m = X.shape[0]#m为样本数\n",
    "\n",
    "    inner = X @ theta - y  # R(m*1)，X @ theta等价于X.dot(theta)\n",
    "\n",
    "    # 1*m @ m*1 = 1*1 in matrix multiplication\n",
    "    # but you know numpy didn't do transpose in 1d array, so here is just a\n",
    "    # vector inner product to itselves\n",
    "    square_sum = inner.T @ inner\n",
    "    cost = square_sum / (2 * m)\n",
    "\n",
    "    return cost"
   ]
  },
  {
   "cell_type": "code",
   "execution_count": 17,
   "metadata": {},
   "outputs": [
    {
     "data": {
      "text/plain": [
       "32.072733877455669"
      ]
     },
     "execution_count": 17,
     "metadata": {},
     "output_type": "execute_result"
    }
   ],
   "source": [
    "lr_cost(theta,X,y)#返回theta的值"
   ]
  },
  {
   "cell_type": "markdown",
   "metadata": {},
   "source": [
    "（6）梯度下降\n",
    "$${{\\theta }_{j}}:={{\\theta }_{j}}-\\alpha \\frac{\\partial }{\\partial {{\\theta }_{j}}}J\\left( \\theta  \\right)$$"
   ]
  },
  {
   "cell_type": "code",
   "execution_count": 18,
   "metadata": {
    "collapsed": true
   },
   "outputs": [],
   "source": [
    "def gradient(theta, X, y):\n",
    "    m = X.shape[0]\n",
    "\n",
    "    inner = X.T @ (X @ theta - y)  # (m,n).T @ (m, 1) -> (n, 1)，X @ theta等价于X.dot(theta)\n",
    "\n",
    "    return inner / m"
   ]
  },
  {
   "cell_type": "code",
   "execution_count": 19,
   "metadata": {
    "collapsed": true
   },
   "outputs": [],
   "source": [
    "def batch_gradient_decent(theta, X, y, epoch, alpha=0.01):\n",
    "#   拟合线性回归，返回参数和代价\n",
    "#     epoch: 批处理的轮数\n",
    "#     \"\"\"\n",
    "    cost_data = [lr_cost(theta, X, y)]\n",
    "    _theta = theta.copy()  # 拷贝一份，不和原来的theta混淆\n",
    "\n",
    "    for _ in range(epoch):\n",
    "        _theta = _theta - alpha * gradient(_theta, X, y)\n",
    "        cost_data.append(lr_cost(_theta, X, y))\n",
    "\n",
    "    return _theta, cost_data\n",
    "#批量梯度下降函数"
   ]
  },
  {
   "cell_type": "code",
   "execution_count": 20,
   "metadata": {
    "collapsed": true
   },
   "outputs": [],
   "source": [
    "epoch = 500\n",
    "final_theta, cost_data = batch_gradient_decent(theta, X, y, epoch)"
   ]
  },
  {
   "cell_type": "code",
   "execution_count": 21,
   "metadata": {},
   "outputs": [
    {
     "data": {
      "text/plain": [
       "array([-2.28286727,  1.03099898])"
      ]
     },
     "execution_count": 21,
     "metadata": {},
     "output_type": "execute_result"
    }
   ],
   "source": [
    "final_theta\n",
    "#最终的theta"
   ]
  },
  {
   "cell_type": "code",
   "execution_count": 22,
   "metadata": {},
   "outputs": [
    {
     "data": {
      "text/plain": [
       "[32.072733877455669,\n",
       " 6.7371904648700118,\n",
       " 5.9315935686049563,\n",
       " 5.9011547070813881,\n",
       " 5.8952285864442207,\n",
       " 5.8900949431173304,\n",
       " 5.8850041584436443,\n",
       " 5.8799324804914184,\n",
       " 5.8748790947625729,\n",
       " 5.8698439118063881,\n",
       " 5.8648268653129305,\n",
       " 5.8598278899321805,\n",
       " 5.8548469205722897,\n",
       " 5.8498838923765879,\n",
       " 5.8449387407220339,\n",
       " 5.8400114012183595,\n",
       " 5.8351018097072265,\n",
       " 5.8302099022613882,\n",
       " 5.825335615183862,\n",
       " 5.8204788850070983,\n",
       " 5.8156396484921542,\n",
       " 5.8108178426278689,\n",
       " 5.8060134046300451,\n",
       " 5.801226271940628,\n",
       " 5.7964563822268991,\n",
       " 5.7917036733806526,\n",
       " 5.7869680835173956,\n",
       " 5.7822495509755392,\n",
       " 5.7775480143155962,\n",
       " 5.7728634123193814,\n",
       " 5.7681956839892141,\n",
       " 5.7635447685471197,\n",
       " 5.7589106054340489,\n",
       " 5.7542931343090755,\n",
       " 5.7496922950486269,\n",
       " 5.7451080277456841,\n",
       " 5.740540272709012,\n",
       " 5.7359889704623814,\n",
       " 5.7314540617437917,\n",
       " 5.7269354875047016,\n",
       " 5.7224331889092568,\n",
       " 5.7179471073335284,\n",
       " 5.7134771843647494,\n",
       " 5.7090233618005488,\n",
       " 5.7045855816481987,\n",
       " 5.7001637861238557,\n",
       " 5.6957579176518145,\n",
       " 5.6913679188637509,\n",
       " 5.6869937325979798,\n",
       " 5.6826353018987072,\n",
       " 5.6782925700152918,\n",
       " 5.6739654804015061,\n",
       " 5.6696539767147973,\n",
       " 5.6653580028155535,\n",
       " 5.6610775027663793,\n",
       " 5.6568124208313577,\n",
       " 5.6525627014753326,\n",
       " 5.6483282893631808,\n",
       " 5.6441091293590935,\n",
       " 5.6399051665258542,\n",
       " 5.6357163461241369,\n",
       " 5.6315426136117717,\n",
       " 5.6273839146430529,\n",
       " 5.6232401950680266,\n",
       " 5.6191114009317777,\n",
       " 5.6149974784737413,\n",
       " 5.6108983741269842,\n",
       " 5.6068140345175319,\n",
       " 5.602744406463648,\n",
       " 5.5986894369751594,\n",
       " 5.5946490732527607,\n",
       " 5.5906232626873225,\n",
       " 5.5866119528592169,\n",
       " 5.5826150915376225,\n",
       " 5.5786326266798536,\n",
       " 5.5746645064306772,\n",
       " 5.5707106791216434,\n",
       " 5.5667710932704031,\n",
       " 5.56284569758005,\n",
       " 5.558934440938442,\n",
       " 5.5550372724175441,\n",
       " 5.5511541412727539,\n",
       " 5.5472849969422562,\n",
       " 5.5434297890463515,\n",
       " 5.5395884673868094,\n",
       " 5.5357609819462041,\n",
       " 5.5319472828872742,\n",
       " 5.5281473205522715,\n",
       " 5.5243610454623058,\n",
       " 5.5205884083167129,\n",
       " 5.5168293599924025,\n",
       " 5.5130838515432252,\n",
       " 5.5093518341993315,\n",
       " 5.5056332593665402,\n",
       " 5.5019280786256992,\n",
       " 5.4982362437320651,\n",
       " 5.4945577066146649,\n",
       " 5.4908924193756778,\n",
       " 5.4872403342898046,\n",
       " 5.483601403803652,\n",
       " 5.479975580535112,\n",
       " 5.476362817272741,\n",
       " 5.472763066975153,\n",
       " 5.4691762827703982,\n",
       " 5.465602417955358,\n",
       " 5.4620414259951389,\n",
       " 5.4584932605224585,\n",
       " 5.4549578753370476,\n",
       " 5.4514352244050528,\n",
       " 5.4479252618584244,\n",
       " 5.4444279419943333,\n",
       " 5.4409432192745646,\n",
       " 5.4374710483249329,\n",
       " 5.4340113839346866,\n",
       " 5.43056418105592,\n",
       " 5.4271293948029866,\n",
       " 5.423706980451918,\n",
       " 5.4202968934398381,\n",
       " 5.4168990893643825,\n",
       " 5.4135135239831227,\n",
       " 5.4101401532129882,\n",
       " 5.4067789331296945,\n",
       " 5.4034298199671671,\n",
       " 5.4000927701169763,\n",
       " 5.3967677401277676,\n",
       " 5.3934546867046951,\n",
       " 5.3901535667088618,\n",
       " 5.3868643371567471,\n",
       " 5.3835869552196609,\n",
       " 5.3803213782231776,\n",
       " 5.377067563646583,\n",
       " 5.3738254691223171,\n",
       " 5.3705950524354291,\n",
       " 5.3673762715230238,\n",
       " 5.364169084473712,\n",
       " 5.3609734495270676,\n",
       " 5.3577893250730853,\n",
       " 5.354616669651632,\n",
       " 5.3514554419519165,\n",
       " 5.3483056008119432,\n",
       " 5.3451671052179819,\n",
       " 5.3420399143040296,\n",
       " 5.3389239873512819,\n",
       " 5.3358192837876013,\n",
       " 5.3327257631869882,\n",
       " 5.329643385269053,\n",
       " 5.3265721098984988,\n",
       " 5.3235118970845869,\n",
       " 5.3204627069806296,\n",
       " 5.3174244998834608,\n",
       " 5.3143972362329235,\n",
       " 5.3113808766113557,\n",
       " 5.3083753817430726,\n",
       " 5.3053807124938608,\n",
       " 5.3023968298704647,\n",
       " 5.2994236950200815,\n",
       " 5.2964612692298516,\n",
       " 5.2935095139263613,\n",
       " 5.2905683906751291,\n",
       " 5.2876378611801194,\n",
       " 5.2847178872832314,\n",
       " 5.2818084309638111,\n",
       " 5.2789094543381516,\n",
       " 5.2760209196590013,\n",
       " 5.2731427893150702,\n",
       " 5.2702750258305437,\n",
       " 5.267417591864592,\n",
       " 5.2645704502108854,\n",
       " 5.2617335637971099,\n",
       " 5.2589068956844836,\n",
       " 5.2560904090672738,\n",
       " 5.2532840672723227,\n",
       " 5.250487833758565,\n",
       " 5.2477016721165555,\n",
       " 5.2449255460679947,\n",
       " 5.2421594194652528,\n",
       " 5.2394032562909034,\n",
       " 5.236657020657252,\n",
       " 5.2339206768058695,\n",
       " 5.2311941891071285,\n",
       " 5.2284775220597366,\n",
       " 5.2257706402902704,\n",
       " 5.2230735085527282,\n",
       " 5.2203860917280549,\n",
       " 5.2177083548236958,\n",
       " 5.2150402629731367,\n",
       " 5.2123817814354494,\n",
       " 5.2097328755948435,\n",
       " 5.2070935109602088,\n",
       " 5.2044636531646722,\n",
       " 5.2018432679651498,\n",
       " 5.1992323212418947,\n",
       " 5.1966307789980632,\n",
       " 5.1940386073592597,\n",
       " 5.1914557725731072,\n",
       " 5.1888822410088027,\n",
       " 5.1863179791566756,\n",
       " 5.1837629536277587,\n",
       " 5.1812171311533506,\n",
       " 5.1786804785845755,\n",
       " 5.1761529628919671,\n",
       " 5.1736345511650219,\n",
       " 5.1711252106117822,\n",
       " 5.168624908558404,\n",
       " 5.1661336124487311,\n",
       " 5.1636512898438749,\n",
       " 5.1611779084217906,\n",
       " 5.1587134359768489,\n",
       " 5.1562578404194337,\n",
       " 5.1538110897755063,\n",
       " 5.1513731521861974,\n",
       " 5.1489439959073948,\n",
       " 5.1465235893093233,\n",
       " 5.1441119008761396,\n",
       " 5.141708899205514,\n",
       " 5.1393145530082336,\n",
       " 5.1369288311077783,\n",
       " 5.1345517024399321,\n",
       " 5.1321831360523644,\n",
       " 5.129823101104237,\n",
       " 5.1274715668657986,\n",
       " 5.1251285027179803,\n",
       " 5.1227938781520077,\n",
       " 5.1204676627689922,\n",
       " 5.1181498262795424,\n",
       " 5.1158403385033671,\n",
       " 5.1135391693688845,\n",
       " 5.1112462889128247,\n",
       " 5.1089616672798472,\n",
       " 5.1066852747221505,\n",
       " 5.1044170815990766,\n",
       " 5.1021570583767364,\n",
       " 5.0999051756276197,\n",
       " 5.0976614040302106,\n",
       " 5.0954257143686101,\n",
       " 5.0931980775321497,\n",
       " 5.0909784645150209,\n",
       " 5.0887668464158873,\n",
       " 5.0865631944375167,\n",
       " 5.0843674798864003,\n",
       " 5.0821796741723864,\n",
       " 5.0799997488082971,\n",
       " 5.0778276754095675,\n",
       " 5.0756634256938717,\n",
       " 5.0735069714807555,\n",
       " 5.071358284691267,\n",
       " 5.0692173373475962,\n",
       " 5.0670841015727053,\n",
       " 5.0649585495899689,\n",
       " 5.0628406537228097,\n",
       " 5.0607303863943418,\n",
       " 5.0586277201270109,\n",
       " 5.0565326275422313,\n",
       " 5.0544450813600363,\n",
       " 5.0523650543987184,\n",
       " 5.0502925195744792,\n",
       " 5.0482274499010735,\n",
       " 5.0461698184894566,\n",
       " 5.0441195985474421,\n",
       " 5.0420767633793417,\n",
       " 5.0400412863856259,\n",
       " 5.0380131410625761,\n",
       " 5.0359923010019383,\n",
       " 5.0339787398905784,\n",
       " 5.0319724315101402,\n",
       " 5.0299733497367072,\n",
       " 5.0279814685404558,\n",
       " 5.025996761985323,\n",
       " 5.0240192042286669,\n",
       " 5.0220487695209268,\n",
       " 5.0200854322052928,\n",
       " 5.018129166717368,\n",
       " 5.0161799475848348,\n",
       " 5.0142377494271297,\n",
       " 5.012302546955107,\n",
       " 5.0103743149707087,\n",
       " 5.0084530283666426,\n",
       " 5.0065386621260481,\n",
       " 5.0046311913221748,\n",
       " 5.00273059111806,\n",
       " 5.0008368367661991,\n",
       " 4.9989499036082261,\n",
       " 4.9970697670745947,\n",
       " 4.9951964026842566,\n",
       " 4.9933297860443426,\n",
       " 4.9914698928498451,\n",
       " 4.9896166988833004,\n",
       " 4.9877701800144782,\n",
       " 4.9859303122000602,\n",
       " 4.9840970714833324,\n",
       " 4.9822704339938717,\n",
       " 4.9804503759472345,\n",
       " 4.978636873644648,\n",
       " 4.9768299034726988,\n",
       " 4.9750294419030316,\n",
       " 4.9732354654920341,\n",
       " 4.9714479508805409,\n",
       " 4.9696668747935222,\n",
       " 4.9678922140397841,\n",
       " 4.9661239455116686,\n",
       " 4.9643620461847453,\n",
       " 4.9626064931175193,\n",
       " 4.9608572634511319,\n",
       " 4.9591143344090538,\n",
       " 4.9573776832968033,\n",
       " 4.9556472875016393,\n",
       " 4.9539231244922712,\n",
       " 4.9522051718185605,\n",
       " 4.9504934071112396,\n",
       " 4.9487878080816108,\n",
       " 4.9470883525212583,\n",
       " 4.9453950183017596,\n",
       " 4.943707783374399,\n",
       " 4.9420266257698779,\n",
       " 4.9403515235980295,\n",
       " 4.9386824550475366,\n",
       " 4.9370193983856412,\n",
       " 4.9353623319578688,\n",
       " 4.9337112341877409,\n",
       " 4.9320660835764993,\n",
       " 4.9304268587028188,\n",
       " 4.9287935382225347,\n",
       " 4.9271661008683632,\n",
       " 4.9255445254496237,\n",
       " 4.9239287908519627,\n",
       " 4.92231887603708,\n",
       " 4.9207147600424532,\n",
       " 4.9191164219810668,\n",
       " 4.9175238410411399,\n",
       " 4.9159369964858524,\n",
       " 4.9143558676530761,\n",
       " 4.9127804339551115,\n",
       " 4.9112106748784097,\n",
       " 4.9096465699833125,\n",
       " 4.9080880989037849,\n",
       " 4.9065352413471466,\n",
       " 4.904987977093815,\n",
       " 4.903446285997032,\n",
       " 4.9019101479826093,\n",
       " 4.9003795430486665,\n",
       " 4.8988544512653656,\n",
       " 4.8973348527746561,\n",
       " 4.8958207277900163,\n",
       " 4.8943120565961928,\n",
       " 4.8928088195489448,\n",
       " 4.8913109970747897,\n",
       " 4.8898185696707488,\n",
       " 4.8883315179040912,\n",
       " 4.8868498224120804,\n",
       " 4.8853734639017246,\n",
       " 4.8839024231495234,\n",
       " 4.882436681001221,\n",
       " 4.8809762183715488,\n",
       " 4.879521016243987,\n",
       " 4.8780710556705085,\n",
       " 4.8766263177713416,\n",
       " 4.8751867837347129,\n",
       " 4.8737524348166099,\n",
       " 4.872323252340534,\n",
       " 4.8708992176972616,\n",
       " 4.869480312344594,\n",
       " 4.8680665178071223,\n",
       " 4.8666578156759863,\n",
       " 4.8652541876086319,\n",
       " 4.8638556153285748,\n",
       " 4.8624620806251579,\n",
       " 4.8610735653533244,\n",
       " 4.859690051433371,\n",
       " 4.858311520850715,\n",
       " 4.8569379556556642,\n",
       " 4.8555693379631775,\n",
       " 4.8542056499526396,\n",
       " 4.8528468738676178,\n",
       " 4.8514929920156398,\n",
       " 4.8501439867679617,\n",
       " 4.8487998405593355,\n",
       " 4.8474605358877838,\n",
       " 4.846126055314369,\n",
       " 4.8447963814629693,\n",
       " 4.8434714970200456,\n",
       " 4.8421513847344286,\n",
       " 4.8408360274170823,\n",
       " 4.8395254079408838,\n",
       " 4.838219509240405,\n",
       " 4.8369183143116823,\n",
       " 4.8356218062120027,\n",
       " 4.8343299680596781,\n",
       " 4.833042783033827,\n",
       " 4.8317602343741566,\n",
       " 4.8304823053807437,\n",
       " 4.8292089794138171,\n",
       " 4.8279402398935405,\n",
       " 4.8266760702997988,\n",
       " 4.8254164541719788,\n",
       " 4.8241613751087611,\n",
       " 4.8229108167678989,\n",
       " 4.8216647628660114,\n",
       " 4.8204231971783713,\n",
       " 4.8191861035386863,\n",
       " 4.8179534658389018,\n",
       " 4.8167252680289776,\n",
       " 4.8155014941166856,\n",
       " 4.8142821281674033,\n",
       " 4.8130671543039014,\n",
       " 4.8118565567061413,\n",
       " 4.8106503196110664,\n",
       " 4.8094484273123959,\n",
       " 4.8082508641604251,\n",
       " 4.8070576145618178,\n",
       " 4.8058686629794041,\n",
       " 4.8046839939319765,\n",
       " 4.8035035919940903,\n",
       " 4.8023274417958666,\n",
       " 4.8011555280227807,\n",
       " 4.7999878354154761,\n",
       " 4.7988243487695552,\n",
       " 4.7976650529353906,\n",
       " 4.7965099328179184,\n",
       " 4.795358973376449,\n",
       " 4.7942121596244673,\n",
       " 4.7930694766294373,\n",
       " 4.7919309095126117,\n",
       " 4.790796443448837,\n",
       " 4.7896660636663535,\n",
       " 4.7885397554466147,\n",
       " 4.7874175041240852,\n",
       " 4.7862992950860539,\n",
       " 4.7851851137724477,\n",
       " 4.7840749456756351,\n",
       " 4.7829687763402395,\n",
       " 4.7818665913629541,\n",
       " 4.7807683763923512,\n",
       " 4.7796741171286961,\n",
       " 4.7785837993237585,\n",
       " 4.7774974087806337,\n",
       " 4.7764149313535507,\n",
       " 4.7753363529476918,\n",
       " 4.7742616595190066,\n",
       " 4.7731908370740319,\n",
       " 4.7721238716697076,\n",
       " 4.7710607494131958,\n",
       " 4.770001456461701,\n",
       " 4.7689459790222868,\n",
       " 4.7678943033516976,\n",
       " 4.7668464157561834,\n",
       " 4.7658023025913154,\n",
       " 4.7647619502618124,\n",
       " 4.7637253452213626,\n",
       " 4.7626924739724474,\n",
       " 4.7616633230661636,\n",
       " 4.7606378791020543,\n",
       " 4.7596161287279255,\n",
       " 4.7585980586396799,\n",
       " 4.7575836555811399,\n",
       " 4.7565729063438775,\n",
       " 4.7555657977670371,\n",
       " 4.7545623167371724,\n",
       " 4.7535624501880678,\n",
       " 4.7525661851005694,\n",
       " 4.7515735085024247,\n",
       " 4.7505844074681001,\n",
       " 4.7495988691186195,\n",
       " 4.7486168806213991,\n",
       " 4.7476384291900775,\n",
       " 4.7466635020843455,\n",
       " 4.745692086609786,\n",
       " 4.7447241701177063,\n",
       " 4.7437597400049736,\n",
       " 4.7427987837138508,\n",
       " 4.7418412887318322,\n",
       " 4.7408872425914828,\n",
       " 4.7399366328702737,\n",
       " 4.7389894471904226,\n",
       " 4.7380456732187275,\n",
       " 4.7371052986664148,\n",
       " 4.7361683112889725,\n",
       " 4.7352346988859901,\n",
       " 4.7343044493010051,\n",
       " 4.7333775504213413,\n",
       " 4.7324539901779517,\n",
       " 4.7315337565452618,\n",
       " 4.7306168375410103,\n",
       " 4.7297032212260977,\n",
       " 4.7287928957044274,\n",
       " 4.7278858491227522,\n",
       " 4.7269820696705187,\n",
       " 4.7260815455797163,\n",
       " 4.7251842651247218,\n",
       " 4.7242902166221432,\n",
       " 4.7233993884306766,\n",
       " 4.7225117689509473,\n",
       " 4.7216273466253593,\n",
       " 4.7207461099379504,\n",
       " 4.7198680474142325,\n",
       " 4.7189931476210534,\n",
       " 4.7181213991664395,\n",
       " 4.717252790699451,\n",
       " 4.7163873109100356,\n",
       " 4.7155249485288753,\n",
       " 4.7146656923272445,\n",
       " 4.7138095311168655]"
      ]
     },
     "execution_count": 22,
     "metadata": {},
     "output_type": "execute_result"
    }
   ],
   "source": [
    "cost_data"
   ]
  },
  {
   "cell_type": "code",
   "execution_count": 23,
   "metadata": {},
   "outputs": [
    {
     "data": {
      "text/plain": [
       "4.7138095311168655"
      ]
     },
     "execution_count": 23,
     "metadata": {},
     "output_type": "execute_result"
    }
   ],
   "source": [
    "#计算最终的代价\n",
    "lr_cost(final_theta,X,y)"
   ]
  },
  {
   "cell_type": "markdown",
   "metadata": {},
   "source": [
    "(7)代价函数可视化"
   ]
  },
  {
   "cell_type": "code",
   "execution_count": 30,
   "metadata": {},
   "outputs": [
    {
     "name": "stderr",
     "output_type": "stream",
     "text": [
      "/home/liujing/anaconda3/lib/python3.6/site-packages/seaborn/timeseries.py:183: UserWarning: The tsplot function is deprecated and will be removed or replaced (in a substantially altered version) in a future release.\n",
      "  warnings.warn(msg, UserWarning)\n"
     ]
    },
    {
     "data": {
      "image/png": "[encoded data removed]",
      "text/plain": [
       "<matplotlib.figure.Figure at 0x7f8947184080>"
      ]
     },
     "metadata": {},
     "output_type": "display_data"
    }
   ],
   "source": [
    "ax = sns.tsplot(cost_data, time=np.arange(epoch+1))\n",
    "ax.set_xlabel('epoch')\n",
    "ax.set_ylabel('cost')\n",
    "plt.show()\n",
    "#可以看到从第二轮代价数据变换很大，接下来平稳了"
   ]
  },
  {
   "cell_type": "code",
   "execution_count": 31,
   "metadata": {},
   "outputs": [
    {
     "data": {
      "image/png": "[encoded data removed]",
      "text/plain": [
       "<matplotlib.figure.Figure at 0x7f8947314d68>"
      ]
     },
     "metadata": {},
     "output_type": "display_data"
    }
   ],
   "source": [
    "b = final_theta[0] # intercept，Y轴上的截距\n",
    "m = final_theta[1] # slope，斜率\n",
    "\n",
    "plt.scatter(data.population, data.profit, label=\"Training data\")\n",
    "plt.plot(data.population, data.population*m + b, label=\"Prediction\")\n",
    "plt.legend(loc=2)\n",
    "plt.show()"
   ]
  },
  {
   "cell_type": "markdown",
   "metadata": {},
   "source": [
    "选修："
   ]
  },
  {
   "cell_type": "code",
   "execution_count": 33,
   "metadata": {},
   "outputs": [
    {
     "data": {
      "text/html": [
       "<div>\n",
       "<style>\n",
       "    .dataframe thead tr:only-child th {\n",
       "        text-align: right;\n",
       "    }\n",
       "\n",
       "    .dataframe thead th {\n",
       "        text-align: left;\n",
       "    }\n",
       "\n",
       "    .dataframe tbody tr th {\n",
       "        vertical-align: top;\n",
       "    }\n",
       "</style>\n",
       "<table border=\"1\" class=\"dataframe\">\n",
       "  <thead>\n",
       "    <tr style=\"text-align: right;\">\n",
       "      <th></th>\n",
       "      <th>square</th>\n",
       "      <th>bedrooms</th>\n",
       "      <th>price</th>\n",
       "    </tr>\n",
       "  </thead>\n",
       "  <tbody>\n",
       "    <tr>\n",
       "      <th>0</th>\n",
       "      <td>2104</td>\n",
       "      <td>3</td>\n",
       "      <td>399900</td>\n",
       "    </tr>\n",
       "    <tr>\n",
       "      <th>1</th>\n",
       "      <td>1600</td>\n",
       "      <td>3</td>\n",
       "      <td>329900</td>\n",
       "    </tr>\n",
       "    <tr>\n",
       "      <th>2</th>\n",
       "      <td>2400</td>\n",
       "      <td>3</td>\n",
       "      <td>369000</td>\n",
       "    </tr>\n",
       "    <tr>\n",
       "      <th>3</th>\n",
       "      <td>1416</td>\n",
       "      <td>2</td>\n",
       "      <td>232000</td>\n",
       "    </tr>\n",
       "    <tr>\n",
       "      <th>4</th>\n",
       "      <td>3000</td>\n",
       "      <td>4</td>\n",
       "      <td>539900</td>\n",
       "    </tr>\n",
       "  </tbody>\n",
       "</table>\n",
       "</div>"
      ],
      "text/plain": [
       "   square  bedrooms   price\n",
       "0    2104         3  399900\n",
       "1    1600         3  329900\n",
       "2    2400         3  369000\n",
       "3    1416         2  232000\n",
       "4    3000         4  539900"
      ]
     },
     "execution_count": 33,
     "metadata": {},
     "output_type": "execute_result"
    }
   ],
   "source": [
    "raw_data = pd.read_csv('ex1data2.txt', names=['square', 'bedrooms', 'price'])\n",
    "raw_data.head()"
   ]
  },
  {
   "cell_type": "markdown",
   "metadata": {},
   "source": [
    "标准化数据\n",
    "\n",
    "最简单的方法是令：\n",
    " \n",
    "其中  是平均值，sn 是标准差。"
   ]
  },
  {
   "cell_type": "code",
   "execution_count": 35,
   "metadata": {
    "collapsed": true
   },
   "outputs": [],
   "source": [
    "def normalize_feature(df):\n",
    "#     \"\"\"Applies function along input axis(default 0) of DataFrame.\"\"\"\n",
    "    return df.apply(lambda column: (column - column.mean()) / column.std())"
   ]
  },
  {
   "cell_type": "code",
   "execution_count": 36,
   "metadata": {},
   "outputs": [
    {
     "data": {
      "text/html": [
       "<div>\n",
       "<style>\n",
       "    .dataframe thead tr:only-child th {\n",
       "        text-align: right;\n",
       "    }\n",
       "\n",
       "    .dataframe thead th {\n",
       "        text-align: left;\n",
       "    }\n",
       "\n",
       "    .dataframe tbody tr th {\n",
       "        vertical-align: top;\n",
       "    }\n",
       "</style>\n",
       "<table border=\"1\" class=\"dataframe\">\n",
       "  <thead>\n",
       "    <tr style=\"text-align: right;\">\n",
       "      <th></th>\n",
       "      <th>square</th>\n",
       "      <th>bedrooms</th>\n",
       "      <th>price</th>\n",
       "    </tr>\n",
       "  </thead>\n",
       "  <tbody>\n",
       "    <tr>\n",
       "      <th>0</th>\n",
       "      <td>0.130010</td>\n",
       "      <td>-0.223675</td>\n",
       "      <td>0.475747</td>\n",
       "    </tr>\n",
       "    <tr>\n",
       "      <th>1</th>\n",
       "      <td>-0.504190</td>\n",
       "      <td>-0.223675</td>\n",
       "      <td>-0.084074</td>\n",
       "    </tr>\n",
       "    <tr>\n",
       "      <th>2</th>\n",
       "      <td>0.502476</td>\n",
       "      <td>-0.223675</td>\n",
       "      <td>0.228626</td>\n",
       "    </tr>\n",
       "    <tr>\n",
       "      <th>3</th>\n",
       "      <td>-0.735723</td>\n",
       "      <td>-1.537767</td>\n",
       "      <td>-0.867025</td>\n",
       "    </tr>\n",
       "    <tr>\n",
       "      <th>4</th>\n",
       "      <td>1.257476</td>\n",
       "      <td>1.090417</td>\n",
       "      <td>1.595389</td>\n",
       "    </tr>\n",
       "  </tbody>\n",
       "</table>\n",
       "</div>"
      ],
      "text/plain": [
       "     square  bedrooms     price\n",
       "0  0.130010 -0.223675  0.475747\n",
       "1 -0.504190 -0.223675 -0.084074\n",
       "2  0.502476 -0.223675  0.228626\n",
       "3 -0.735723 -1.537767 -0.867025\n",
       "4  1.257476  1.090417  1.595389"
      ]
     },
     "execution_count": 36,
     "metadata": {},
     "output_type": "execute_result"
    }
   ],
   "source": [
    "data = normalize_feature(raw_data)\n",
    "data.head()"
   ]
  },
  {
   "cell_type": "markdown",
   "metadata": {},
   "source": [
    "multi-var batch gradient decent（多变量批量梯度下降）"
   ]
  },
  {
   "cell_type": "code",
   "execution_count": 37,
   "metadata": {},
   "outputs": [
    {
     "name": "stdout",
     "output_type": "stream",
     "text": [
      "(47, 3) <class 'numpy.ndarray'>\n",
      "(47,) <class 'numpy.ndarray'>\n"
     ]
    }
   ],
   "source": [
    "X = get_X(data)\n",
    "print(X.shape, type(X))\n",
    "\n",
    "y = get_y(data)\n",
    "print(y.shape, type(y))#看下数据的维度和类型"
   ]
  },
  {
   "cell_type": "code",
   "execution_count": 38,
   "metadata": {
    "collapsed": true
   },
   "outputs": [],
   "source": [
    "alpha = 0.01#学习率\n",
    "theta = np.zeros(X.shape[1])#X.shape[1]：特征数n\n",
    "epoch = 500#轮数"
   ]
  },
  {
   "cell_type": "code",
   "execution_count": 39,
   "metadata": {
    "collapsed": true
   },
   "outputs": [],
   "source": [
    "final_theta, cost_data = batch_gradient_decent(theta, X, y, epoch, alpha=alpha)"
   ]
  },
  {
   "cell_type": "code",
   "execution_count": 40,
   "metadata": {},
   "outputs": [
    {
     "name": "stderr",
     "output_type": "stream",
     "text": [
      "/home/liujing/anaconda3/lib/python3.6/site-packages/seaborn/timeseries.py:183: UserWarning: The tsplot function is deprecated and will be removed or replaced (in a substantially altered version) in a future release.\n",
      "  warnings.warn(msg, UserWarning)\n"
     ]
    },
    {
     "data": {
      "image/png": "[encoded data removed]",
      "text/plain": [
       "<matplotlib.figure.Figure at 0x7f89474a36d8>"
      ]
     },
     "metadata": {},
     "output_type": "display_data"
    }
   ],
   "source": [
    "sns.tsplot(time=np.arange(len(cost_data)), data = cost_data)\n",
    "plt.xlabel('epoch', fontsize=18)\n",
    "plt.ylabel('cost', fontsize=18)\n",
    "plt.show()"
   ]
  },
  {
   "cell_type": "code",
   "execution_count": 41,
   "metadata": {},
   "outputs": [
    {
     "data": {
      "text/plain": [
       "array([ -1.18994649e-16,   8.30383883e-01,   8.23982853e-04])"
      ]
     },
     "execution_count": 41,
     "metadata": {},
     "output_type": "execute_result"
    }
   ],
   "source": [
    "final_theta"
   ]
  },
  {
   "cell_type": "markdown",
   "metadata": {},
   "source": [
    "学习率"
   ]
  },
  {
   "cell_type": "code",
   "execution_count": 43,
   "metadata": {},
   "outputs": [
    {
     "name": "stdout",
     "output_type": "stream",
     "text": [
      "[  1.00000000e-05   3.00000000e-05   2.15443469e-04   6.46330407e-04\n",
      "   4.64158883e-03   1.39247665e-02   1.00000000e-01   3.00000000e-01]\n"
     ]
    }
   ],
   "source": [
    "base = np.logspace(-1, -5, num=4)\n",
    "candidate = np.sort(np.concatenate((base, base*3)))\n",
    "print(candidate)"
   ]
  },
  {
   "cell_type": "code",
   "execution_count": 44,
   "metadata": {},
   "outputs": [
    {
     "data": {
      "image/png": "[encoded data removed]",
      "text/plain": [
       "<matplotlib.figure.Figure at 0x7f89473d24e0>"
      ]
     },
     "metadata": {},
     "output_type": "display_data"
    }
   ],
   "source": [
    "epoch=50\n",
    "\n",
    "fig, ax = plt.subplots(figsize=(16, 9))\n",
    "\n",
    "for alpha in candidate:\n",
    "    _, cost_data = batch_gradient_decent(theta, X, y, epoch, alpha=alpha)\n",
    "    ax.plot(np.arange(epoch+1), cost_data, label=alpha)\n",
    "\n",
    "ax.set_xlabel('epoch', fontsize=18)\n",
    "ax.set_ylabel('cost', fontsize=18)\n",
    "ax.legend(bbox_to_anchor=(1.05, 1), loc=2, borderaxespad=0.)\n",
    "ax.set_title('learning rate', fontsize=18)\n",
    "plt.show()"
   ]
  },
  {
   "cell_type": "markdown",
   "metadata": {},
   "source": [
    "正规方程\n",
    "\n",
    "正规方程是通过求解下面的方程来找出使得代价函数最小的参数的：$\\frac{\\partial }{\\partial {{\\theta }_{j}}}J\\left( {{\\theta }_{j}} \\right)=0$ 。\n",
    " 假设我们的训练集特征矩阵为 X（包含了${{x}_{0}}=1$）并且我们的训练集结果为向量 y，则利用正规方程解出向量 $\\theta ={{\\left( {{X}^{T}}X \\right)}^{-1}}{{X}^{T}}y$ 。\n",
    "上标T代表矩阵转置，上标-1 代表矩阵的逆。设矩阵$A={{X}^{T}}X$，则：${{\\left( {{X}^{T}}X \\right)}^{-1}}={{A}^{-1}}$\n",
    "\n",
    "梯度下降与正规方程的比较：\n",
    "\n",
    "梯度下降：需要选择学习率α，需要多次迭代，当特征数量n大时也能较好适用，适用于各种类型的模型\t\n",
    "\n",
    "正规方程：不需要选择学习率α，一次计算得出，需要计算${{\\left( {{X}^{T}}X \\right)}^{-1}}$，如果特征数量n较大则运算代价大，因为矩阵逆的计算时间复杂度为O(n3)，通常来说当n小于10000 时还是可以接受的，只适用于线性模型，不适合逻辑回归模型等其他模型\n"
   ]
  },
  {
   "cell_type": "code",
   "execution_count": 45,
   "metadata": {
    "collapsed": true
   },
   "outputs": [],
   "source": [
    "# 正规方程\n",
    "def normalEqn(X, y):\n",
    "    theta = np.linalg.inv(X.T@X)@X.T@y#X.T@X等价于X.T.dot(X)\n",
    "    return theta"
   ]
  },
  {
   "cell_type": "code",
   "execution_count": 46,
   "metadata": {},
   "outputs": [
    {
     "data": {
      "text/plain": [
       "array([ -1.04083409e-16,   8.84765988e-01,  -5.31788197e-02])"
      ]
     },
     "execution_count": 46,
     "metadata": {},
     "output_type": "execute_result"
    }
   ],
   "source": [
    "final_theta2=normalEqn(X, y)#感觉和批量梯度下降的theta的值有点差距\n",
    "final_theta2"
   ]
  },
  {
   "cell_type": "markdown",
   "metadata": {},
   "source": [
    "run the tensorflow graph over several optimizer"
   ]
  },
  {
   "cell_type": "code",
   "execution_count": 47,
   "metadata": {},
   "outputs": [
    {
     "name": "stdout",
     "output_type": "stream",
     "text": [
      "(47, 3) <class 'numpy.ndarray'>\n",
      "(47, 1) <class 'numpy.ndarray'>\n"
     ]
    }
   ],
   "source": [
    "X_data = get_X(data)\n",
    "print(X_data.shape, type(X_data))\n",
    "\n",
    "y_data = get_y(data).reshape(len(X_data), 1)  # special treatment for tensorflow input data\n",
    "print(y_data.shape, type(y_data))"
   ]
  },
  {
   "cell_type": "code",
   "execution_count": 48,
   "metadata": {
    "collapsed": true
   },
   "outputs": [],
   "source": [
    "epoch = 2000\n",
    "alpha = 0.01"
   ]
  },
  {
   "cell_type": "code",
   "execution_count": 49,
   "metadata": {
    "collapsed": true
   },
   "outputs": [],
   "source": [
    "optimizer_dict={'GD': tf.train.GradientDescentOptimizer,\n",
    "                'Adagrad': tf.train.AdagradOptimizer,\n",
    "                'Adam': tf.train.AdamOptimizer,\n",
    "                'Ftrl': tf.train.FtrlOptimizer,\n",
    "                'RMS': tf.train.RMSPropOptimizer\n",
    "               }\n",
    "results = []\n",
    "for name in optimizer_dict:\n",
    "    res = linear_regression(X_data, y_data, alpha, epoch, optimizer=optimizer_dict[name])\n",
    "    res['name'] = name\n",
    "    results.append(res)"
   ]
  },
  {
   "cell_type": "markdown",
   "metadata": {},
   "source": [
    "画图："
   ]
  },
  {
   "cell_type": "code",
   "execution_count": 50,
   "metadata": {},
   "outputs": [
    {
     "data": {
      "image/png": "[encoded data removed]",
      "text/plain": [
       "<matplotlib.figure.Figure at 0x7f8935652be0>"
      ]
     },
     "metadata": {},
     "output_type": "display_data"
    }
   ],
   "source": [
    "fig, ax = plt.subplots(figsize=(16, 9))\n",
    "\n",
    "for res in results: \n",
    "    loss_data = res['loss']\n",
    "    \n",
    "#     print('for optimizer {}'.format(res['name']))\n",
    "#     print('final parameters\\n', res['parameters'])\n",
    "#     print('final loss={}\\n'.format(loss_data[-1]))\n",
    "    ax.plot(np.arange(len(loss_data)), loss_data, label=res['name'])\n",
    "\n",
    "ax.set_xlabel('epoch', fontsize=18)\n",
    "ax.set_ylabel('cost', fontsize=18)\n",
    "ax.legend(bbox_to_anchor=(1.05, 1), loc=2, borderaxespad=0.)\n",
    "ax.set_title('different optimizer', fontsize=18)\n",
    "plt.show()"
   ]
  },
  {
   "cell_type": "code",
   "execution_count": null,
   "metadata": {
    "collapsed": true
   },
   "outputs": [],
   "source": []
  }
 ],
 "metadata": {
  "kernelspec": {
   "display_name": "Python 3",
   "language": "python",
   "name": "python3"
  },
  "language_info": {
   "codemirror_mode": {
    "name": "ipython",
    "version": 3
   },
   "file_extension": ".py",
   "mimetype": "text/x-python",
   "name": "python",
   "nbconvert_exporter": "python",
   "pygments_lexer": "ipython3",
   "version": "3.6.2"
  }
 },
 "nbformat": 4,
 "nbformat_minor": 2
}
